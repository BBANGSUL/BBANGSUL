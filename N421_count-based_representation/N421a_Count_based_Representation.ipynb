{
  "cells": [
    {
      "cell_type": "markdown",
      "metadata": {
        "id": "view-in-github",
        "colab_type": "text"
      },
      "source": [
        "<a href=\"https://colab.research.google.com/github/BBANGSUL/BBANGSUL/blob/main/N421_count-based_representation/N421a_Count_based_Representation.ipynb\" target=\"_parent\"><img src=\"https://colab.research.google.com/assets/colab-badge.svg\" alt=\"Open In Colab\"/></a>"
      ]
    },
    {
      "cell_type": "markdown",
      "metadata": {
        "id": "za56W96DnxVC"
      },
      "source": [
        "<img align=\"right\" src=\"https://ds-cs-images.s3.ap-northeast-2.amazonaws.com/Codestates_Fulllogo_Color.png\" width=100>\n",
        "\n",
        "## *AIB / SECTION 4 / SPRINT 2 / NOTE 1*\n",
        "\n",
        "# 📝 Assignment\n",
        "\n",
        "---\n",
        "\n",
        "\n",
        "# Count-based_Representation"
      ]
    },
    {
      "cell_type": "markdown",
      "metadata": {
        "id": "68CzOVminxVR"
      },
      "source": [
        "indeed.com 에서 Data Scientist 키워드로 Job descrition을 찾아 스크래핑한 데이터를 이용해 과제를 진행해 보겠습니다.\n",
        "\n",
        "[Data_Scienties.csv](https://ds-lecture-data.s3.ap-northeast-2.amazonaws.com/indeed/Data_Scientist.csv) 파일에는 1300여개의 Data Scientist job description 정보가 담겨 있습니다."
      ]
    },
    {
      "cell_type": "markdown",
      "metadata": {
        "id": "Fon1gvE36a9Q"
      },
      "source": [
        "## 1. 데이터 전처리 (Text preprocessing)"
      ]
    },
    {
      "cell_type": "code",
      "execution_count": 1,
      "metadata": {
        "id": "cnvZzxM4EVMh"
      },
      "outputs": [],
      "source": [
        "import re\n",
        "import string\n",
        "\n",
        "import numpy as np\n",
        "import pandas as pd\n",
        "import matplotlib.pyplot as plt"
      ]
    },
    {
      "cell_type": "markdown",
      "metadata": {
        "id": "U1w7-dwwF5rW"
      },
      "source": [
        "### 0) 텍스트 분석에 앞서 데이터 전처리를 진행합니다."
      ]
    },
    {
      "cell_type": "markdown",
      "metadata": {
        "id": "3Omo3_B1FT_I"
      },
      "source": [
        "- 파일을 불러온 후 title, company, description 에 해당하는 Column만 남겨주세요.\n",
        "- 중복값을 제거하세요."
      ]
    },
    {
      "cell_type": "code",
      "execution_count": 28,
      "metadata": {
        "id": "IwdNT6hmEPhq"
      },
      "outputs": [],
      "source": [
        "df = pd.read_csv('https://ds-lecture-data.s3.ap-northeast-2.amazonaws.com/indeed/Data_Scientist.csv')"
      ]
    },
    {
      "cell_type": "code",
      "source": [
        "df"
      ],
      "metadata": {
        "id": "_EffLYR_adny",
        "outputId": "f39afaac-440d-44b0-fe5b-521639af681e",
        "colab": {
          "base_uri": "https://localhost:8080/",
          "height": 424
        }
      },
      "execution_count": 29,
      "outputs": [
        {
          "output_type": "execute_result",
          "data": {
            "text/plain": [
              "      Unnamed: 0                                 title  \\\n",
              "0              0  Data Scientist (Structured Products)   \n",
              "1              1  Data Scientist (Structured Products)   \n",
              "2              2              Specialist, Data Science   \n",
              "3              3              Specialist, Data Science   \n",
              "4              4           Sr. Data Scientist (Remote)   \n",
              "...          ...                                   ...   \n",
              "1295        1295       Senior Data & Applied Scientist   \n",
              "1296        1296                 Senior Data Scientist   \n",
              "1297        1297                 Senior Data Scientist   \n",
              "1298        1298                 Senior Data Scientist   \n",
              "1299        1299                 Senior Data Scientist   \n",
              "\n",
              "                               company  \\\n",
              "0     EquiTrust Life Insurance Company   \n",
              "1     EquiTrust Life Insurance Company   \n",
              "2                           Nationwide   \n",
              "3                           Nationwide   \n",
              "4           American Credit Acceptance   \n",
              "...                                ...   \n",
              "1295                         Microsoft   \n",
              "1296            Takeda Pharmaceuticals   \n",
              "1297                         eBay Inc.   \n",
              "1298                    Cox Automotive   \n",
              "1299                  Spring Discovery   \n",
              "\n",
              "                                            description  \\\n",
              "0     Job Details\\nDescription\\nEssential Duties and...   \n",
              "1     Job Details\\nDescription\\nEssential Duties and...   \n",
              "2     As a team member in the Finance and Internal A...   \n",
              "3     As a team member in the Finance and Internal A...   \n",
              "4     Overview:\\nAmerican Credit Acceptance seeks a ...   \n",
              "...                                                 ...   \n",
              "1295  Senior Data & Applied Scientist\\nDo you have a...   \n",
              "1296  Job Description\\nOBJECTIVES:\\nEffectively work...   \n",
              "1297  eBay is a global commerce leader that allows y...   \n",
              "1298  Cox Automotive, a subsidiary of Cox Enterprise...   \n",
              "1299  tl;dr\\nSpring is accelerating the discovery of...   \n",
              "\n",
              "                                                    url  \n",
              "0     https://www.indeed.com/viewjob?jk=4e172dc068a7...  \n",
              "1     https://www.indeed.com/viewjob?jk=4e172dc068a7...  \n",
              "2     https://www.indeed.com/viewjob?jk=a06d07dec837...  \n",
              "3     https://www.indeed.com/viewjob?jk=a06d07dec837...  \n",
              "4     https://www.indeed.com/viewjob?jk=422a9c487215...  \n",
              "...                                                 ...  \n",
              "1295  https://www.indeed.com/viewjob?jk=cf3a6989c432...  \n",
              "1296  https://www.indeed.com/viewjob?jk=674682157fdf...  \n",
              "1297  https://www.indeed.com/viewjob?jk=4e38a8dddb16...  \n",
              "1298  https://www.indeed.com/viewjob?jk=ddef07b8b441...  \n",
              "1299  https://www.indeed.com/viewjob?jk=e05bdf26a957...  \n",
              "\n",
              "[1300 rows x 5 columns]"
            ],
            "text/html": [
              "\n",
              "  <div id=\"df-67db92dc-5842-4793-bdf4-00728a50315d\">\n",
              "    <div class=\"colab-df-container\">\n",
              "      <div>\n",
              "<style scoped>\n",
              "    .dataframe tbody tr th:only-of-type {\n",
              "        vertical-align: middle;\n",
              "    }\n",
              "\n",
              "    .dataframe tbody tr th {\n",
              "        vertical-align: top;\n",
              "    }\n",
              "\n",
              "    .dataframe thead th {\n",
              "        text-align: right;\n",
              "    }\n",
              "</style>\n",
              "<table border=\"1\" class=\"dataframe\">\n",
              "  <thead>\n",
              "    <tr style=\"text-align: right;\">\n",
              "      <th></th>\n",
              "      <th>Unnamed: 0</th>\n",
              "      <th>title</th>\n",
              "      <th>company</th>\n",
              "      <th>description</th>\n",
              "      <th>url</th>\n",
              "    </tr>\n",
              "  </thead>\n",
              "  <tbody>\n",
              "    <tr>\n",
              "      <th>0</th>\n",
              "      <td>0</td>\n",
              "      <td>Data Scientist (Structured Products)</td>\n",
              "      <td>EquiTrust Life Insurance Company</td>\n",
              "      <td>Job Details\\nDescription\\nEssential Duties and...</td>\n",
              "      <td>https://www.indeed.com/viewjob?jk=4e172dc068a7...</td>\n",
              "    </tr>\n",
              "    <tr>\n",
              "      <th>1</th>\n",
              "      <td>1</td>\n",
              "      <td>Data Scientist (Structured Products)</td>\n",
              "      <td>EquiTrust Life Insurance Company</td>\n",
              "      <td>Job Details\\nDescription\\nEssential Duties and...</td>\n",
              "      <td>https://www.indeed.com/viewjob?jk=4e172dc068a7...</td>\n",
              "    </tr>\n",
              "    <tr>\n",
              "      <th>2</th>\n",
              "      <td>2</td>\n",
              "      <td>Specialist, Data Science</td>\n",
              "      <td>Nationwide</td>\n",
              "      <td>As a team member in the Finance and Internal A...</td>\n",
              "      <td>https://www.indeed.com/viewjob?jk=a06d07dec837...</td>\n",
              "    </tr>\n",
              "    <tr>\n",
              "      <th>3</th>\n",
              "      <td>3</td>\n",
              "      <td>Specialist, Data Science</td>\n",
              "      <td>Nationwide</td>\n",
              "      <td>As a team member in the Finance and Internal A...</td>\n",
              "      <td>https://www.indeed.com/viewjob?jk=a06d07dec837...</td>\n",
              "    </tr>\n",
              "    <tr>\n",
              "      <th>4</th>\n",
              "      <td>4</td>\n",
              "      <td>Sr. Data Scientist (Remote)</td>\n",
              "      <td>American Credit Acceptance</td>\n",
              "      <td>Overview:\\nAmerican Credit Acceptance seeks a ...</td>\n",
              "      <td>https://www.indeed.com/viewjob?jk=422a9c487215...</td>\n",
              "    </tr>\n",
              "    <tr>\n",
              "      <th>...</th>\n",
              "      <td>...</td>\n",
              "      <td>...</td>\n",
              "      <td>...</td>\n",
              "      <td>...</td>\n",
              "      <td>...</td>\n",
              "    </tr>\n",
              "    <tr>\n",
              "      <th>1295</th>\n",
              "      <td>1295</td>\n",
              "      <td>Senior Data &amp; Applied Scientist</td>\n",
              "      <td>Microsoft</td>\n",
              "      <td>Senior Data &amp; Applied Scientist\\nDo you have a...</td>\n",
              "      <td>https://www.indeed.com/viewjob?jk=cf3a6989c432...</td>\n",
              "    </tr>\n",
              "    <tr>\n",
              "      <th>1296</th>\n",
              "      <td>1296</td>\n",
              "      <td>Senior Data Scientist</td>\n",
              "      <td>Takeda Pharmaceuticals</td>\n",
              "      <td>Job Description\\nOBJECTIVES:\\nEffectively work...</td>\n",
              "      <td>https://www.indeed.com/viewjob?jk=674682157fdf...</td>\n",
              "    </tr>\n",
              "    <tr>\n",
              "      <th>1297</th>\n",
              "      <td>1297</td>\n",
              "      <td>Senior Data Scientist</td>\n",
              "      <td>eBay Inc.</td>\n",
              "      <td>eBay is a global commerce leader that allows y...</td>\n",
              "      <td>https://www.indeed.com/viewjob?jk=4e38a8dddb16...</td>\n",
              "    </tr>\n",
              "    <tr>\n",
              "      <th>1298</th>\n",
              "      <td>1298</td>\n",
              "      <td>Senior Data Scientist</td>\n",
              "      <td>Cox Automotive</td>\n",
              "      <td>Cox Automotive, a subsidiary of Cox Enterprise...</td>\n",
              "      <td>https://www.indeed.com/viewjob?jk=ddef07b8b441...</td>\n",
              "    </tr>\n",
              "    <tr>\n",
              "      <th>1299</th>\n",
              "      <td>1299</td>\n",
              "      <td>Senior Data Scientist</td>\n",
              "      <td>Spring Discovery</td>\n",
              "      <td>tl;dr\\nSpring is accelerating the discovery of...</td>\n",
              "      <td>https://www.indeed.com/viewjob?jk=e05bdf26a957...</td>\n",
              "    </tr>\n",
              "  </tbody>\n",
              "</table>\n",
              "<p>1300 rows × 5 columns</p>\n",
              "</div>\n",
              "      <button class=\"colab-df-convert\" onclick=\"convertToInteractive('df-67db92dc-5842-4793-bdf4-00728a50315d')\"\n",
              "              title=\"Convert this dataframe to an interactive table.\"\n",
              "              style=\"display:none;\">\n",
              "        \n",
              "  <svg xmlns=\"http://www.w3.org/2000/svg\" height=\"24px\"viewBox=\"0 0 24 24\"\n",
              "       width=\"24px\">\n",
              "    <path d=\"M0 0h24v24H0V0z\" fill=\"none\"/>\n",
              "    <path d=\"M18.56 5.44l.94 2.06.94-2.06 2.06-.94-2.06-.94-.94-2.06-.94 2.06-2.06.94zm-11 1L8.5 8.5l.94-2.06 2.06-.94-2.06-.94L8.5 2.5l-.94 2.06-2.06.94zm10 10l.94 2.06.94-2.06 2.06-.94-2.06-.94-.94-2.06-.94 2.06-2.06.94z\"/><path d=\"M17.41 7.96l-1.37-1.37c-.4-.4-.92-.59-1.43-.59-.52 0-1.04.2-1.43.59L10.3 9.45l-7.72 7.72c-.78.78-.78 2.05 0 2.83L4 21.41c.39.39.9.59 1.41.59.51 0 1.02-.2 1.41-.59l7.78-7.78 2.81-2.81c.8-.78.8-2.07 0-2.86zM5.41 20L4 18.59l7.72-7.72 1.47 1.35L5.41 20z\"/>\n",
              "  </svg>\n",
              "      </button>\n",
              "      \n",
              "  <style>\n",
              "    .colab-df-container {\n",
              "      display:flex;\n",
              "      flex-wrap:wrap;\n",
              "      gap: 12px;\n",
              "    }\n",
              "\n",
              "    .colab-df-convert {\n",
              "      background-color: #E8F0FE;\n",
              "      border: none;\n",
              "      border-radius: 50%;\n",
              "      cursor: pointer;\n",
              "      display: none;\n",
              "      fill: #1967D2;\n",
              "      height: 32px;\n",
              "      padding: 0 0 0 0;\n",
              "      width: 32px;\n",
              "    }\n",
              "\n",
              "    .colab-df-convert:hover {\n",
              "      background-color: #E2EBFA;\n",
              "      box-shadow: 0px 1px 2px rgba(60, 64, 67, 0.3), 0px 1px 3px 1px rgba(60, 64, 67, 0.15);\n",
              "      fill: #174EA6;\n",
              "    }\n",
              "\n",
              "    [theme=dark] .colab-df-convert {\n",
              "      background-color: #3B4455;\n",
              "      fill: #D2E3FC;\n",
              "    }\n",
              "\n",
              "    [theme=dark] .colab-df-convert:hover {\n",
              "      background-color: #434B5C;\n",
              "      box-shadow: 0px 1px 3px 1px rgba(0, 0, 0, 0.15);\n",
              "      filter: drop-shadow(0px 1px 2px rgba(0, 0, 0, 0.3));\n",
              "      fill: #FFFFFF;\n",
              "    }\n",
              "  </style>\n",
              "\n",
              "      <script>\n",
              "        const buttonEl =\n",
              "          document.querySelector('#df-67db92dc-5842-4793-bdf4-00728a50315d button.colab-df-convert');\n",
              "        buttonEl.style.display =\n",
              "          google.colab.kernel.accessAllowed ? 'block' : 'none';\n",
              "\n",
              "        async function convertToInteractive(key) {\n",
              "          const element = document.querySelector('#df-67db92dc-5842-4793-bdf4-00728a50315d');\n",
              "          const dataTable =\n",
              "            await google.colab.kernel.invokeFunction('convertToInteractive',\n",
              "                                                     [key], {});\n",
              "          if (!dataTable) return;\n",
              "\n",
              "          const docLinkHtml = 'Like what you see? Visit the ' +\n",
              "            '<a target=\"_blank\" href=https://colab.research.google.com/notebooks/data_table.ipynb>data table notebook</a>'\n",
              "            + ' to learn more about interactive tables.';\n",
              "          element.innerHTML = '';\n",
              "          dataTable['output_type'] = 'display_data';\n",
              "          await google.colab.output.renderOutput(dataTable, element);\n",
              "          const docLink = document.createElement('div');\n",
              "          docLink.innerHTML = docLinkHtml;\n",
              "          element.appendChild(docLink);\n",
              "        }\n",
              "      </script>\n",
              "    </div>\n",
              "  </div>\n",
              "  "
            ]
          },
          "metadata": {},
          "execution_count": 29
        }
      ]
    },
    {
      "cell_type": "code",
      "source": [
        "columns = ['title', 'company', 'description']\n",
        "\n",
        "df = df[columns]"
      ],
      "metadata": {
        "id": "MfpRh4cqZM7N"
      },
      "execution_count": 30,
      "outputs": []
    },
    {
      "cell_type": "code",
      "source": [
        "df.duplicated().sum()"
      ],
      "metadata": {
        "id": "xz2EbkD0ZXr6",
        "outputId": "f3703697-36b3-4d38-9b00-7a94a50f6044",
        "colab": {
          "base_uri": "https://localhost:8080/"
        }
      },
      "execution_count": 31,
      "outputs": [
        {
          "output_type": "execute_result",
          "data": {
            "text/plain": [
              "543"
            ]
          },
          "metadata": {},
          "execution_count": 31
        }
      ]
    },
    {
      "cell_type": "code",
      "source": [
        "df = df.drop_duplicates(keep = 'first')"
      ],
      "metadata": {
        "id": "wew3_IkZZfbz"
      },
      "execution_count": 37,
      "outputs": []
    },
    {
      "cell_type": "code",
      "source": [
        "df.reset_index(inplace = True, drop = True)"
      ],
      "metadata": {
        "id": "se71r0vZaBAS"
      },
      "execution_count": 39,
      "outputs": []
    },
    {
      "cell_type": "code",
      "source": [
        "df.shape"
      ],
      "metadata": {
        "id": "IqXQbWmFZ9MY",
        "outputId": "79d89578-bd0c-4c20-d7c8-e7c2fb1b065f",
        "colab": {
          "base_uri": "https://localhost:8080/"
        }
      },
      "execution_count": 41,
      "outputs": [
        {
          "output_type": "execute_result",
          "data": {
            "text/plain": [
              "(757, 3)"
            ]
          },
          "metadata": {},
          "execution_count": 41
        }
      ]
    },
    {
      "cell_type": "markdown",
      "metadata": {
        "id": "JepbPJw5nxVT"
      },
      "source": [
        "### 1) 토큰을 정제합니다."
      ]
    },
    {
      "cell_type": "markdown",
      "metadata": {
        "id": "8Mq6oYCdQ0cZ"
      },
      "source": [
        "- 문자를 소문자로 통일\n",
        "- 분석에 관련 없는 정보 제거\n",
        "- 이번 과제는 `spacy` 로부터 `\"en_core_web_sm\"` 을 로드하여 진행해주세요.\n",
        "\n",
        "- **문항 1) 대문자를 소문자로 변경하는 함수를 입력하세요.**\n",
        "- **문항 2) 정규 표현식을 사용하여 re 라이브러리에서 알파벳 소문자, 숫자만 받을 수 있는 코드를 작성하세요.**"
      ]
    },
    {
      "cell_type": "code",
      "execution_count": 3,
      "metadata": {
        "id": "_VBRkXS6nxVT"
      },
      "outputs": [],
      "source": [
        "import spacy\n",
        "from spacy.tokenizer import Tokenizer\n",
        "\n",
        "nlp = spacy.load(\"en_core_web_sm\")\n",
        "tokenizer = Tokenizer(nlp.vocab)"
      ]
    },
    {
      "cell_type": "code",
      "source": [
        "tokens = []\n",
        "\n",
        "for doc in tokenizer.pipe(df['description']):\n",
        "    doc_tokens = [re.sub(r\"[^a-z0-9]\", \"\", token.text.lower()) for token in doc]\n",
        "    tokens.append(doc_tokens)\n",
        "\n",
        "df['tokens'] = tokens\n",
        "df['tokens'].head()"
      ],
      "metadata": {
        "id": "jElNzwMBb55t",
        "outputId": "a56166b2-fdb1-4403-8639-bf25090c1b03",
        "colab": {
          "base_uri": "https://localhost:8080/"
        }
      },
      "execution_count": 44,
      "outputs": [
        {
          "output_type": "execute_result",
          "data": {
            "text/plain": [
              "0    [job, details, , description, , essential, dut...\n",
              "1    [as, a, team, member, in, the, finance, and, i...\n",
              "2    [overview, , american, credit, acceptance, see...\n",
              "3    [jp, morgans, corporate, , investment, bank, c...\n",
              "4    [at, vystar, we, offer, competitive, pay, an, ...\n",
              "Name: tokens, dtype: object"
            ]
          },
          "metadata": {},
          "execution_count": 44
        }
      ]
    },
    {
      "cell_type": "markdown",
      "metadata": {
        "id": "RdgRqlzsnxVT"
      },
      "source": [
        "### 2) 정제한 토큰을 시각화 합니다."
      ]
    },
    {
      "cell_type": "markdown",
      "metadata": {
        "id": "sOobV051OOsv"
      },
      "source": [
        "- Top 10 토큰을 프린트 합니다.\n",
        "- 토큰의 수, 빈도 순위, 존재 문서 수, 비율 등 정보를 계산합니다.\n",
        "- 토큰 순위에 따른 퍼센트 누적 분포 그래프를 시각화합니다.\n",
        "\n",
        "- **문항 3) 추천 토큰 순위 10개 단어를 입력하세요.**"
      ]
    },
    {
      "cell_type": "code",
      "execution_count": 45,
      "metadata": {
        "id": "3Gk8_RIxcWKS"
      },
      "outputs": [],
      "source": [
        "def word_count(docs):\n",
        "  from collections import Counter\n",
        "  word_counts = Counter()\n",
        "  word_in_docs = Counter()\n",
        "  total_docs = len(docs)\n",
        "\n",
        "  for doc in docs:\n",
        "      word_counts.update(doc)\n",
        "      word_in_docs.update(set(doc))\n",
        "\n",
        "  temp = zip(word_counts.keys(), word_counts.values())\n",
        "  wc = pd.DataFrame(temp,columns=['word','count'])\n",
        "\n",
        "  wc['rank'] = wc['count'].rank(method='first', ascending=False)\n",
        "  total = wc['count'].sum()\n",
        "\n",
        "  wc['percent'] = wc['count'].apply(lambda x: x/total)\n",
        "  wc = wc.sort_values(by='rank')\n",
        "\n",
        "  wc['cul_percent'] = wc['percent'].cumsum()\n",
        "\n",
        "  temp2 = zip(word_in_docs.keys(), word_in_docs.values())\n",
        "  ac = pd.DataFrame(temp2, columns=['word', 'word_in_docs'])\n",
        "  wc = ac.merge(wc, on='word')\n",
        "\n",
        "  wc['word_in_docs_percent'] = wc['word_in_docs'].apply(lambda x: x/total_docs)\n",
        "  return wc.sort_values(by='rank')"
      ]
    },
    {
      "cell_type": "code",
      "source": [
        "!pip install squarify"
      ],
      "metadata": {
        "id": "AKYytDIDfIwF",
        "outputId": "88e24fae-398b-451b-c8c1-16036142ae6e",
        "colab": {
          "base_uri": "https://localhost:8080/"
        }
      },
      "execution_count": 46,
      "outputs": [
        {
          "output_type": "stream",
          "name": "stdout",
          "text": [
            "Looking in indexes: https://pypi.org/simple, https://us-python.pkg.dev/colab-wheels/public/simple/\n",
            "Collecting squarify\n",
            "  Downloading squarify-0.4.3-py3-none-any.whl (4.3 kB)\n",
            "Installing collected packages: squarify\n",
            "Successfully installed squarify-0.4.3\n"
          ]
        }
      ]
    },
    {
      "cell_type": "code",
      "source": [
        "wc = word_count(df['tokens'])\n",
        "wc.head(10)"
      ],
      "metadata": {
        "id": "SOkAGhiBfNCQ",
        "outputId": "d37b8e48-c7f5-468f-923e-bfb032e69ef7",
        "colab": {
          "base_uri": "https://localhost:8080/",
          "height": 363
        }
      },
      "execution_count": 47,
      "outputs": [
        {
          "output_type": "execute_result",
          "data": {
            "text/plain": [
              "     word  word_in_docs  count  rank   percent  cul_percent  \\\n",
              "205   and           755  21864   1.0  0.053487     0.053487   \n",
              "0                   751  21493   2.0  0.052580     0.106067   \n",
              "127    to           754  12694   3.0  0.031054     0.137121   \n",
              "88    the           745  10538   4.0  0.025780     0.162901   \n",
              "76     of           745   8839   5.0  0.021623     0.184524   \n",
              "43   data           740   7425   6.0  0.018164     0.202689   \n",
              "74     in           748   6769   7.0  0.016559     0.219248   \n",
              "87      a           739   6436   8.0  0.015745     0.234993   \n",
              "152  with           742   5727   9.0  0.014010     0.249003   \n",
              "405   for           727   4132  10.0  0.010108     0.259111   \n",
              "\n",
              "     word_in_docs_percent  \n",
              "205              0.997358  \n",
              "0                0.992074  \n",
              "127              0.996037  \n",
              "88               0.984148  \n",
              "76               0.984148  \n",
              "43               0.977543  \n",
              "74               0.988111  \n",
              "87               0.976222  \n",
              "152              0.980185  \n",
              "405              0.960370  "
            ],
            "text/html": [
              "\n",
              "  <div id=\"df-2f9862b5-21ba-4428-aecb-8ac0fab44a32\">\n",
              "    <div class=\"colab-df-container\">\n",
              "      <div>\n",
              "<style scoped>\n",
              "    .dataframe tbody tr th:only-of-type {\n",
              "        vertical-align: middle;\n",
              "    }\n",
              "\n",
              "    .dataframe tbody tr th {\n",
              "        vertical-align: top;\n",
              "    }\n",
              "\n",
              "    .dataframe thead th {\n",
              "        text-align: right;\n",
              "    }\n",
              "</style>\n",
              "<table border=\"1\" class=\"dataframe\">\n",
              "  <thead>\n",
              "    <tr style=\"text-align: right;\">\n",
              "      <th></th>\n",
              "      <th>word</th>\n",
              "      <th>word_in_docs</th>\n",
              "      <th>count</th>\n",
              "      <th>rank</th>\n",
              "      <th>percent</th>\n",
              "      <th>cul_percent</th>\n",
              "      <th>word_in_docs_percent</th>\n",
              "    </tr>\n",
              "  </thead>\n",
              "  <tbody>\n",
              "    <tr>\n",
              "      <th>205</th>\n",
              "      <td>and</td>\n",
              "      <td>755</td>\n",
              "      <td>21864</td>\n",
              "      <td>1.0</td>\n",
              "      <td>0.053487</td>\n",
              "      <td>0.053487</td>\n",
              "      <td>0.997358</td>\n",
              "    </tr>\n",
              "    <tr>\n",
              "      <th>0</th>\n",
              "      <td></td>\n",
              "      <td>751</td>\n",
              "      <td>21493</td>\n",
              "      <td>2.0</td>\n",
              "      <td>0.052580</td>\n",
              "      <td>0.106067</td>\n",
              "      <td>0.992074</td>\n",
              "    </tr>\n",
              "    <tr>\n",
              "      <th>127</th>\n",
              "      <td>to</td>\n",
              "      <td>754</td>\n",
              "      <td>12694</td>\n",
              "      <td>3.0</td>\n",
              "      <td>0.031054</td>\n",
              "      <td>0.137121</td>\n",
              "      <td>0.996037</td>\n",
              "    </tr>\n",
              "    <tr>\n",
              "      <th>88</th>\n",
              "      <td>the</td>\n",
              "      <td>745</td>\n",
              "      <td>10538</td>\n",
              "      <td>4.0</td>\n",
              "      <td>0.025780</td>\n",
              "      <td>0.162901</td>\n",
              "      <td>0.984148</td>\n",
              "    </tr>\n",
              "    <tr>\n",
              "      <th>76</th>\n",
              "      <td>of</td>\n",
              "      <td>745</td>\n",
              "      <td>8839</td>\n",
              "      <td>5.0</td>\n",
              "      <td>0.021623</td>\n",
              "      <td>0.184524</td>\n",
              "      <td>0.984148</td>\n",
              "    </tr>\n",
              "    <tr>\n",
              "      <th>43</th>\n",
              "      <td>data</td>\n",
              "      <td>740</td>\n",
              "      <td>7425</td>\n",
              "      <td>6.0</td>\n",
              "      <td>0.018164</td>\n",
              "      <td>0.202689</td>\n",
              "      <td>0.977543</td>\n",
              "    </tr>\n",
              "    <tr>\n",
              "      <th>74</th>\n",
              "      <td>in</td>\n",
              "      <td>748</td>\n",
              "      <td>6769</td>\n",
              "      <td>7.0</td>\n",
              "      <td>0.016559</td>\n",
              "      <td>0.219248</td>\n",
              "      <td>0.988111</td>\n",
              "    </tr>\n",
              "    <tr>\n",
              "      <th>87</th>\n",
              "      <td>a</td>\n",
              "      <td>739</td>\n",
              "      <td>6436</td>\n",
              "      <td>8.0</td>\n",
              "      <td>0.015745</td>\n",
              "      <td>0.234993</td>\n",
              "      <td>0.976222</td>\n",
              "    </tr>\n",
              "    <tr>\n",
              "      <th>152</th>\n",
              "      <td>with</td>\n",
              "      <td>742</td>\n",
              "      <td>5727</td>\n",
              "      <td>9.0</td>\n",
              "      <td>0.014010</td>\n",
              "      <td>0.249003</td>\n",
              "      <td>0.980185</td>\n",
              "    </tr>\n",
              "    <tr>\n",
              "      <th>405</th>\n",
              "      <td>for</td>\n",
              "      <td>727</td>\n",
              "      <td>4132</td>\n",
              "      <td>10.0</td>\n",
              "      <td>0.010108</td>\n",
              "      <td>0.259111</td>\n",
              "      <td>0.960370</td>\n",
              "    </tr>\n",
              "  </tbody>\n",
              "</table>\n",
              "</div>\n",
              "      <button class=\"colab-df-convert\" onclick=\"convertToInteractive('df-2f9862b5-21ba-4428-aecb-8ac0fab44a32')\"\n",
              "              title=\"Convert this dataframe to an interactive table.\"\n",
              "              style=\"display:none;\">\n",
              "        \n",
              "  <svg xmlns=\"http://www.w3.org/2000/svg\" height=\"24px\"viewBox=\"0 0 24 24\"\n",
              "       width=\"24px\">\n",
              "    <path d=\"M0 0h24v24H0V0z\" fill=\"none\"/>\n",
              "    <path d=\"M18.56 5.44l.94 2.06.94-2.06 2.06-.94-2.06-.94-.94-2.06-.94 2.06-2.06.94zm-11 1L8.5 8.5l.94-2.06 2.06-.94-2.06-.94L8.5 2.5l-.94 2.06-2.06.94zm10 10l.94 2.06.94-2.06 2.06-.94-2.06-.94-.94-2.06-.94 2.06-2.06.94z\"/><path d=\"M17.41 7.96l-1.37-1.37c-.4-.4-.92-.59-1.43-.59-.52 0-1.04.2-1.43.59L10.3 9.45l-7.72 7.72c-.78.78-.78 2.05 0 2.83L4 21.41c.39.39.9.59 1.41.59.51 0 1.02-.2 1.41-.59l7.78-7.78 2.81-2.81c.8-.78.8-2.07 0-2.86zM5.41 20L4 18.59l7.72-7.72 1.47 1.35L5.41 20z\"/>\n",
              "  </svg>\n",
              "      </button>\n",
              "      \n",
              "  <style>\n",
              "    .colab-df-container {\n",
              "      display:flex;\n",
              "      flex-wrap:wrap;\n",
              "      gap: 12px;\n",
              "    }\n",
              "\n",
              "    .colab-df-convert {\n",
              "      background-color: #E8F0FE;\n",
              "      border: none;\n",
              "      border-radius: 50%;\n",
              "      cursor: pointer;\n",
              "      display: none;\n",
              "      fill: #1967D2;\n",
              "      height: 32px;\n",
              "      padding: 0 0 0 0;\n",
              "      width: 32px;\n",
              "    }\n",
              "\n",
              "    .colab-df-convert:hover {\n",
              "      background-color: #E2EBFA;\n",
              "      box-shadow: 0px 1px 2px rgba(60, 64, 67, 0.3), 0px 1px 3px 1px rgba(60, 64, 67, 0.15);\n",
              "      fill: #174EA6;\n",
              "    }\n",
              "\n",
              "    [theme=dark] .colab-df-convert {\n",
              "      background-color: #3B4455;\n",
              "      fill: #D2E3FC;\n",
              "    }\n",
              "\n",
              "    [theme=dark] .colab-df-convert:hover {\n",
              "      background-color: #434B5C;\n",
              "      box-shadow: 0px 1px 3px 1px rgba(0, 0, 0, 0.15);\n",
              "      filter: drop-shadow(0px 1px 2px rgba(0, 0, 0, 0.3));\n",
              "      fill: #FFFFFF;\n",
              "    }\n",
              "  </style>\n",
              "\n",
              "      <script>\n",
              "        const buttonEl =\n",
              "          document.querySelector('#df-2f9862b5-21ba-4428-aecb-8ac0fab44a32 button.colab-df-convert');\n",
              "        buttonEl.style.display =\n",
              "          google.colab.kernel.accessAllowed ? 'block' : 'none';\n",
              "\n",
              "        async function convertToInteractive(key) {\n",
              "          const element = document.querySelector('#df-2f9862b5-21ba-4428-aecb-8ac0fab44a32');\n",
              "          const dataTable =\n",
              "            await google.colab.kernel.invokeFunction('convertToInteractive',\n",
              "                                                     [key], {});\n",
              "          if (!dataTable) return;\n",
              "\n",
              "          const docLinkHtml = 'Like what you see? Visit the ' +\n",
              "            '<a target=\"_blank\" href=https://colab.research.google.com/notebooks/data_table.ipynb>data table notebook</a>'\n",
              "            + ' to learn more about interactive tables.';\n",
              "          element.innerHTML = '';\n",
              "          dataTable['output_type'] = 'display_data';\n",
              "          await google.colab.output.renderOutput(dataTable, element);\n",
              "          const docLink = document.createElement('div');\n",
              "          docLink.innerHTML = docLinkHtml;\n",
              "          element.appendChild(docLink);\n",
              "        }\n",
              "      </script>\n",
              "    </div>\n",
              "  </div>\n",
              "  "
            ]
          },
          "metadata": {},
          "execution_count": 47
        }
      ]
    },
    {
      "cell_type": "code",
      "source": [
        "import squarify\n",
        "import matplotlib.pyplot as plt\n",
        "\n",
        "wc_top10 = wc[wc['rank'] <= 10]\n",
        "\n",
        "squarify.plot(sizes=wc_top10['percent'], label=wc_top10['word'], alpha=0.6 )\n",
        "plt.axis('off')\n",
        "plt.show()"
      ],
      "metadata": {
        "id": "fsWDWAPEfPks",
        "outputId": "c05c06be-959c-456a-d265-7f4c1ab75af2",
        "colab": {
          "base_uri": "https://localhost:8080/",
          "height": 248
        }
      },
      "execution_count": 48,
      "outputs": [
        {
          "output_type": "display_data",
          "data": {
            "text/plain": [
              "<Figure size 432x288 with 1 Axes>"
            ],
            "image/png": "[encoded data removed]"
          },
          "metadata": {
            "needs_background": "light"
          }
        }
      ]
    },
    {
      "cell_type": "markdown",
      "metadata": {
        "id": "sURsv85FnxVU"
      },
      "source": [
        "### 4) 확장된 불용어 사전을 사용해 토큰을 정제합니다.\n"
      ]
    },
    {
      "cell_type": "markdown",
      "metadata": {
        "id": "d4FW5bGjRHb4"
      },
      "source": [
        "- **문항 4) 기본 불용어 사전에 두 단어(`\"data\", \"work\"`)를 추가하는 코드를 사용해주세요.**\n",
        "- **문항 5) 불용어를 제거하고 난 뒤 토큰 순위 10개의 단어를 입력하세요.**"
      ]
    },
    {
      "cell_type": "code",
      "execution_count": 49,
      "metadata": {
        "id": "yuxNolYCcWrv"
      },
      "outputs": [],
      "source": [
        "STOP_WORDS = nlp.Defaults.stop_words.union(['data','work'])"
      ]
    },
    {
      "cell_type": "code",
      "source": [
        "tokens = []\n",
        "\n",
        "for doc in tokenizer.pipe(df['description']):\n",
        "    \n",
        "    doc_tokens = []\n",
        "    \n",
        "    for token in doc: \n",
        "        if token.text.lower() not in STOP_WORDS:\n",
        "            doc_tokens.append(token.text.lower())\n",
        "   \n",
        "    tokens.append(doc_tokens)\n",
        "    \n",
        "df['tokens'] = tokens\n",
        "wc = word_count(df['tokens'])\n",
        "wc.head(10)"
      ],
      "metadata": {
        "id": "UpvZ4yEvfT14",
        "outputId": "0b7ad0f8-4068-4bed-be73-489c01df5d6a",
        "colab": {
          "base_uri": "https://localhost:8080/",
          "height": 363
        }
      },
      "execution_count": 50,
      "outputs": [
        {
          "output_type": "execute_result",
          "data": {
            "text/plain": [
              "           word  word_in_docs  count  rank   percent  cul_percent  \\\n",
              "17           \\n           732  15158   1.0  0.057309     0.057309   \n",
              "169        \\n\\n           607   3904   2.0  0.014760     0.072069   \n",
              "73   experience           687   3055   3.0  0.011550     0.083619   \n",
              "524    business           518   1885   4.0  0.007127     0.090746   \n",
              "136        team           548   1323   5.0  0.005002     0.095748   \n",
              "561    learning           467   1193   6.0  0.004510     0.100259   \n",
              "565     machine           468   1140   7.0  0.004310     0.104569   \n",
              "681     science           460   1048   8.0  0.003962     0.108531   \n",
              "32      ability           452    958   9.0  0.003622     0.112153   \n",
              "52     analysis           436    896  10.0  0.003388     0.115540   \n",
              "\n",
              "     word_in_docs_percent  \n",
              "17               0.966975  \n",
              "169              0.801849  \n",
              "73               0.907530  \n",
              "524              0.684280  \n",
              "136              0.723910  \n",
              "561              0.616909  \n",
              "565              0.618230  \n",
              "681              0.607662  \n",
              "32               0.597094  \n",
              "52               0.575958  "
            ],
            "text/html": [
              "\n",
              "  <div id=\"df-79ab09d4-4142-48d8-a143-350d5deb6f9d\">\n",
              "    <div class=\"colab-df-container\">\n",
              "      <div>\n",
              "<style scoped>\n",
              "    .dataframe tbody tr th:only-of-type {\n",
              "        vertical-align: middle;\n",
              "    }\n",
              "\n",
              "    .dataframe tbody tr th {\n",
              "        vertical-align: top;\n",
              "    }\n",
              "\n",
              "    .dataframe thead th {\n",
              "        text-align: right;\n",
              "    }\n",
              "</style>\n",
              "<table border=\"1\" class=\"dataframe\">\n",
              "  <thead>\n",
              "    <tr style=\"text-align: right;\">\n",
              "      <th></th>\n",
              "      <th>word</th>\n",
              "      <th>word_in_docs</th>\n",
              "      <th>count</th>\n",
              "      <th>rank</th>\n",
              "      <th>percent</th>\n",
              "      <th>cul_percent</th>\n",
              "      <th>word_in_docs_percent</th>\n",
              "    </tr>\n",
              "  </thead>\n",
              "  <tbody>\n",
              "    <tr>\n",
              "      <th>17</th>\n",
              "      <td>\\n</td>\n",
              "      <td>732</td>\n",
              "      <td>15158</td>\n",
              "      <td>1.0</td>\n",
              "      <td>0.057309</td>\n",
              "      <td>0.057309</td>\n",
              "      <td>0.966975</td>\n",
              "    </tr>\n",
              "    <tr>\n",
              "      <th>169</th>\n",
              "      <td>\\n\\n</td>\n",
              "      <td>607</td>\n",
              "      <td>3904</td>\n",
              "      <td>2.0</td>\n",
              "      <td>0.014760</td>\n",
              "      <td>0.072069</td>\n",
              "      <td>0.801849</td>\n",
              "    </tr>\n",
              "    <tr>\n",
              "      <th>73</th>\n",
              "      <td>experience</td>\n",
              "      <td>687</td>\n",
              "      <td>3055</td>\n",
              "      <td>3.0</td>\n",
              "      <td>0.011550</td>\n",
              "      <td>0.083619</td>\n",
              "      <td>0.907530</td>\n",
              "    </tr>\n",
              "    <tr>\n",
              "      <th>524</th>\n",
              "      <td>business</td>\n",
              "      <td>518</td>\n",
              "      <td>1885</td>\n",
              "      <td>4.0</td>\n",
              "      <td>0.007127</td>\n",
              "      <td>0.090746</td>\n",
              "      <td>0.684280</td>\n",
              "    </tr>\n",
              "    <tr>\n",
              "      <th>136</th>\n",
              "      <td>team</td>\n",
              "      <td>548</td>\n",
              "      <td>1323</td>\n",
              "      <td>5.0</td>\n",
              "      <td>0.005002</td>\n",
              "      <td>0.095748</td>\n",
              "      <td>0.723910</td>\n",
              "    </tr>\n",
              "    <tr>\n",
              "      <th>561</th>\n",
              "      <td>learning</td>\n",
              "      <td>467</td>\n",
              "      <td>1193</td>\n",
              "      <td>6.0</td>\n",
              "      <td>0.004510</td>\n",
              "      <td>0.100259</td>\n",
              "      <td>0.616909</td>\n",
              "    </tr>\n",
              "    <tr>\n",
              "      <th>565</th>\n",
              "      <td>machine</td>\n",
              "      <td>468</td>\n",
              "      <td>1140</td>\n",
              "      <td>7.0</td>\n",
              "      <td>0.004310</td>\n",
              "      <td>0.104569</td>\n",
              "      <td>0.618230</td>\n",
              "    </tr>\n",
              "    <tr>\n",
              "      <th>681</th>\n",
              "      <td>science</td>\n",
              "      <td>460</td>\n",
              "      <td>1048</td>\n",
              "      <td>8.0</td>\n",
              "      <td>0.003962</td>\n",
              "      <td>0.108531</td>\n",
              "      <td>0.607662</td>\n",
              "    </tr>\n",
              "    <tr>\n",
              "      <th>32</th>\n",
              "      <td>ability</td>\n",
              "      <td>452</td>\n",
              "      <td>958</td>\n",
              "      <td>9.0</td>\n",
              "      <td>0.003622</td>\n",
              "      <td>0.112153</td>\n",
              "      <td>0.597094</td>\n",
              "    </tr>\n",
              "    <tr>\n",
              "      <th>52</th>\n",
              "      <td>analysis</td>\n",
              "      <td>436</td>\n",
              "      <td>896</td>\n",
              "      <td>10.0</td>\n",
              "      <td>0.003388</td>\n",
              "      <td>0.115540</td>\n",
              "      <td>0.575958</td>\n",
              "    </tr>\n",
              "  </tbody>\n",
              "</table>\n",
              "</div>\n",
              "      <button class=\"colab-df-convert\" onclick=\"convertToInteractive('df-79ab09d4-4142-48d8-a143-350d5deb6f9d')\"\n",
              "              title=\"Convert this dataframe to an interactive table.\"\n",
              "              style=\"display:none;\">\n",
              "        \n",
              "  <svg xmlns=\"http://www.w3.org/2000/svg\" height=\"24px\"viewBox=\"0 0 24 24\"\n",
              "       width=\"24px\">\n",
              "    <path d=\"M0 0h24v24H0V0z\" fill=\"none\"/>\n",
              "    <path d=\"M18.56 5.44l.94 2.06.94-2.06 2.06-.94-2.06-.94-.94-2.06-.94 2.06-2.06.94zm-11 1L8.5 8.5l.94-2.06 2.06-.94-2.06-.94L8.5 2.5l-.94 2.06-2.06.94zm10 10l.94 2.06.94-2.06 2.06-.94-2.06-.94-.94-2.06-.94 2.06-2.06.94z\"/><path d=\"M17.41 7.96l-1.37-1.37c-.4-.4-.92-.59-1.43-.59-.52 0-1.04.2-1.43.59L10.3 9.45l-7.72 7.72c-.78.78-.78 2.05 0 2.83L4 21.41c.39.39.9.59 1.41.59.51 0 1.02-.2 1.41-.59l7.78-7.78 2.81-2.81c.8-.78.8-2.07 0-2.86zM5.41 20L4 18.59l7.72-7.72 1.47 1.35L5.41 20z\"/>\n",
              "  </svg>\n",
              "      </button>\n",
              "      \n",
              "  <style>\n",
              "    .colab-df-container {\n",
              "      display:flex;\n",
              "      flex-wrap:wrap;\n",
              "      gap: 12px;\n",
              "    }\n",
              "\n",
              "    .colab-df-convert {\n",
              "      background-color: #E8F0FE;\n",
              "      border: none;\n",
              "      border-radius: 50%;\n",
              "      cursor: pointer;\n",
              "      display: none;\n",
              "      fill: #1967D2;\n",
              "      height: 32px;\n",
              "      padding: 0 0 0 0;\n",
              "      width: 32px;\n",
              "    }\n",
              "\n",
              "    .colab-df-convert:hover {\n",
              "      background-color: #E2EBFA;\n",
              "      box-shadow: 0px 1px 2px rgba(60, 64, 67, 0.3), 0px 1px 3px 1px rgba(60, 64, 67, 0.15);\n",
              "      fill: #174EA6;\n",
              "    }\n",
              "\n",
              "    [theme=dark] .colab-df-convert {\n",
              "      background-color: #3B4455;\n",
              "      fill: #D2E3FC;\n",
              "    }\n",
              "\n",
              "    [theme=dark] .colab-df-convert:hover {\n",
              "      background-color: #434B5C;\n",
              "      box-shadow: 0px 1px 3px 1px rgba(0, 0, 0, 0.15);\n",
              "      filter: drop-shadow(0px 1px 2px rgba(0, 0, 0, 0.3));\n",
              "      fill: #FFFFFF;\n",
              "    }\n",
              "  </style>\n",
              "\n",
              "      <script>\n",
              "        const buttonEl =\n",
              "          document.querySelector('#df-79ab09d4-4142-48d8-a143-350d5deb6f9d button.colab-df-convert');\n",
              "        buttonEl.style.display =\n",
              "          google.colab.kernel.accessAllowed ? 'block' : 'none';\n",
              "\n",
              "        async function convertToInteractive(key) {\n",
              "          const element = document.querySelector('#df-79ab09d4-4142-48d8-a143-350d5deb6f9d');\n",
              "          const dataTable =\n",
              "            await google.colab.kernel.invokeFunction('convertToInteractive',\n",
              "                                                     [key], {});\n",
              "          if (!dataTable) return;\n",
              "\n",
              "          const docLinkHtml = 'Like what you see? Visit the ' +\n",
              "            '<a target=\"_blank\" href=https://colab.research.google.com/notebooks/data_table.ipynb>data table notebook</a>'\n",
              "            + ' to learn more about interactive tables.';\n",
              "          element.innerHTML = '';\n",
              "          dataTable['output_type'] = 'display_data';\n",
              "          await google.colab.output.renderOutput(dataTable, element);\n",
              "          const docLink = document.createElement('div');\n",
              "          docLink.innerHTML = docLinkHtml;\n",
              "          element.appendChild(docLink);\n",
              "        }\n",
              "      </script>\n",
              "    </div>\n",
              "  </div>\n",
              "  "
            ]
          },
          "metadata": {},
          "execution_count": 50
        }
      ]
    },
    {
      "cell_type": "markdown",
      "metadata": {
        "id": "f0iyh_gFnxVV"
      },
      "source": [
        "### 5) Lemmatization 사용 효과를 분석해 봅니다.\n",
        "\n"
      ]
    },
    {
      "cell_type": "markdown",
      "metadata": {
        "id": "zcBkXD0WTNgI"
      },
      "source": [
        "- **문항 6) Lemmatization을 진행한 뒤 상위 10개 단어를 입력하세요.**"
      ]
    },
    {
      "cell_type": "code",
      "execution_count": 51,
      "metadata": {
        "id": "O2cKokO8cXR5"
      },
      "outputs": [],
      "source": [
        "def get_lemmas(text):\n",
        "\n",
        "    lemmas = []\n",
        "    \n",
        "    doc = nlp(text)\n",
        "\n",
        "    for token in doc: \n",
        "        if ((token.is_stop == False) and (token.is_punct == False)) and (token.pos_ != 'PRON'):\n",
        "            lemmas.append(token.lemma_)\n",
        "    \n",
        "    return lemmas"
      ]
    },
    {
      "cell_type": "code",
      "source": [
        "df['lemmas'] = df['description'].apply(get_lemmas)"
      ],
      "metadata": {
        "id": "UCNnqIWOfcGR"
      },
      "execution_count": 52,
      "outputs": []
    },
    {
      "cell_type": "code",
      "source": [
        "df['lemmas'].head(10)"
      ],
      "metadata": {
        "id": "KOwNW_l5ffnI",
        "outputId": "1f3876a5-7cf5-4ae5-8ccb-68fc366fbf66",
        "colab": {
          "base_uri": "https://localhost:8080/"
        }
      },
      "execution_count": 54,
      "outputs": [
        {
          "output_type": "execute_result",
          "data": {
            "text/plain": [
              "0    [Job, Details, \\n, Description, \\n, Essential,...\n",
              "1    [team, member, Finance, Internal, Audit, depar...\n",
              "2    [overview, \\n, American, Credit, Acceptance, s...\n",
              "3    [J.P., Morgan, Corporate, Investment, Bank, CI...\n",
              "4    [VyStar, offer, competitive, pay, excellent, b...\n",
              "5    [apply, role, choose, work, follow, location, ...\n",
              "6    [Company, \\n\\n, Hitachi, Vantara, wholly, own,...\n",
              "7    [Remote, Friendly, long, locate, Pacific, Moun...\n",
              "8    [Equal, Opportunity, Employer, woman, minority...\n",
              "9    [subsidiary, Colas, Inc., 100, \\n\\n, Colas, In...\n",
              "Name: lemmas, dtype: object"
            ]
          },
          "metadata": {},
          "execution_count": 54
        }
      ]
    },
    {
      "cell_type": "markdown",
      "metadata": {
        "id": "_uSNuY9UUl7P"
      },
      "source": [
        "## 2. 유사한 문서 찾기"
      ]
    },
    {
      "cell_type": "markdown",
      "metadata": {
        "id": "Spn3AFhIZBC9"
      },
      "source": [
        "### 1) `TfidfVectorizer`를 이용해 각 문서들을 벡터화 한 후 KNN 모델을 만들고, <br/> 내가 원하는 `job description`을 질의해 가장 가까운 검색 결과들을 가져오고 분석합니다."
      ]
    },
    {
      "cell_type": "markdown",
      "metadata": {
        "id": "WEtnD5gYZZ-c"
      },
      "source": [
        "- **문항 9) 88번 index의 `job description`와 5개의 가장 유사한 `job description`이 있는 index를 입력하세요.**\n",
        "    - 답은 88번 인덱스를 포함합니다.\n",
        "    - `max_features = 3000` 으로 설정합니다.\n",
        "    - [88, 90, 91, 93, 94] 형태로 답을 입력해주세요"
      ]
    },
    {
      "cell_type": "code",
      "source": [
        "def tokenize(document):\n",
        "    doc = nlp(document)\n",
        "    return [token.lemma_.strip() for token in doc if (token.is_stop != True) and (token.is_punct != True) and (token.is_alpha == True)]"
      ],
      "metadata": {
        "id": "95yWdq6_gQOb"
      },
      "execution_count": 58,
      "outputs": []
    },
    {
      "cell_type": "code",
      "source": [
        "from sklearn.feature_extraction.text import CountVectorizer, TfidfVectorizer\n",
        "\n",
        "tfidf_tuned = TfidfVectorizer(stop_words='english',max_features=3000)\n",
        "\n",
        "dtm_tfidf_tuned = tfidf_tuned.fit_transform(df['description'])\n",
        "dtm_tfidf_tuned = pd.DataFrame(dtm_tfidf_tuned.todense(), columns=tfidf_tuned.get_feature_names())\n",
        "dtm_tfidf_tuned.head()"
      ],
      "metadata": {
        "id": "9Zq5eZMqgQGo",
        "outputId": "a6df0a18-e10e-4a6a-ffb1-df7ed3f02e5c",
        "colab": {
          "base_uri": "https://localhost:8080/",
          "height": 272
        }
      },
      "execution_count": 59,
      "outputs": [
        {
          "output_type": "stream",
          "name": "stderr",
          "text": [
            "/usr/local/lib/python3.7/dist-packages/sklearn/utils/deprecation.py:87: FutureWarning: Function get_feature_names is deprecated; get_feature_names is deprecated in 1.0 and will be removed in 1.2. Please use get_feature_names_out instead.\n",
            "  warnings.warn(msg, category=FutureWarning)\n"
          ]
        },
        {
          "output_type": "execute_result",
          "data": {
            "text/plain": [
              "    00       000       10       100   11   12   14   15   18   19  ...  \\\n",
              "0  0.0  0.000000  0.05272  0.000000  0.0  0.0  0.0  0.0  0.0  0.0  ...   \n",
              "1  0.0  0.000000  0.00000  0.000000  0.0  0.0  0.0  0.0  0.0  0.0  ...   \n",
              "2  0.0  0.000000  0.00000  0.000000  0.0  0.0  0.0  0.0  0.0  0.0  ...   \n",
              "3  0.0  0.033337  0.00000  0.035082  0.0  0.0  0.0  0.0  0.0  0.0  ...   \n",
              "4  0.0  0.000000  0.00000  0.000000  0.0  0.0  0.0  0.0  0.0  0.0  ...   \n",
              "\n",
              "   written  www      year     years  yelp  yes  york  yrs  zillow  zulily  \n",
              "0  0.00000  0.0  0.000000  0.023379   0.0  0.0   0.0  0.0     0.0     0.0  \n",
              "1  0.00000  0.0  0.000000  0.018485   0.0  0.0   0.0  0.0     0.0     0.0  \n",
              "2  0.05851  0.0  0.000000  0.017488   0.0  0.0   0.0  0.0     0.0     0.0  \n",
              "3  0.00000  0.0  0.060084  0.013012   0.0  0.0   0.0  0.0     0.0     0.0  \n",
              "4  0.00000  0.0  0.000000  0.047268   0.0  0.0   0.0  0.0     0.0     0.0  \n",
              "\n",
              "[5 rows x 3000 columns]"
            ],
            "text/html": [
              "\n",
              "  <div id=\"df-a2bac2ba-e90f-4482-b63d-91f8e27c4e2b\">\n",
              "    <div class=\"colab-df-container\">\n",
              "      <div>\n",
              "<style scoped>\n",
              "    .dataframe tbody tr th:only-of-type {\n",
              "        vertical-align: middle;\n",
              "    }\n",
              "\n",
              "    .dataframe tbody tr th {\n",
              "        vertical-align: top;\n",
              "    }\n",
              "\n",
              "    .dataframe thead th {\n",
              "        text-align: right;\n",
              "    }\n",
              "</style>\n",
              "<table border=\"1\" class=\"dataframe\">\n",
              "  <thead>\n",
              "    <tr style=\"text-align: right;\">\n",
              "      <th></th>\n",
              "      <th>00</th>\n",
              "      <th>000</th>\n",
              "      <th>10</th>\n",
              "      <th>100</th>\n",
              "      <th>11</th>\n",
              "      <th>12</th>\n",
              "      <th>14</th>\n",
              "      <th>15</th>\n",
              "      <th>18</th>\n",
              "      <th>19</th>\n",
              "      <th>...</th>\n",
              "      <th>written</th>\n",
              "      <th>www</th>\n",
              "      <th>year</th>\n",
              "      <th>years</th>\n",
              "      <th>yelp</th>\n",
              "      <th>yes</th>\n",
              "      <th>york</th>\n",
              "      <th>yrs</th>\n",
              "      <th>zillow</th>\n",
              "      <th>zulily</th>\n",
              "    </tr>\n",
              "  </thead>\n",
              "  <tbody>\n",
              "    <tr>\n",
              "      <th>0</th>\n",
              "      <td>0.0</td>\n",
              "      <td>0.000000</td>\n",
              "      <td>0.05272</td>\n",
              "      <td>0.000000</td>\n",
              "      <td>0.0</td>\n",
              "      <td>0.0</td>\n",
              "      <td>0.0</td>\n",
              "      <td>0.0</td>\n",
              "      <td>0.0</td>\n",
              "      <td>0.0</td>\n",
              "      <td>...</td>\n",
              "      <td>0.00000</td>\n",
              "      <td>0.0</td>\n",
              "      <td>0.000000</td>\n",
              "      <td>0.023379</td>\n",
              "      <td>0.0</td>\n",
              "      <td>0.0</td>\n",
              "      <td>0.0</td>\n",
              "      <td>0.0</td>\n",
              "      <td>0.0</td>\n",
              "      <td>0.0</td>\n",
              "    </tr>\n",
              "    <tr>\n",
              "      <th>1</th>\n",
              "      <td>0.0</td>\n",
              "      <td>0.000000</td>\n",
              "      <td>0.00000</td>\n",
              "      <td>0.000000</td>\n",
              "      <td>0.0</td>\n",
              "      <td>0.0</td>\n",
              "      <td>0.0</td>\n",
              "      <td>0.0</td>\n",
              "      <td>0.0</td>\n",
              "      <td>0.0</td>\n",
              "      <td>...</td>\n",
              "      <td>0.00000</td>\n",
              "      <td>0.0</td>\n",
              "      <td>0.000000</td>\n",
              "      <td>0.018485</td>\n",
              "      <td>0.0</td>\n",
              "      <td>0.0</td>\n",
              "      <td>0.0</td>\n",
              "      <td>0.0</td>\n",
              "      <td>0.0</td>\n",
              "      <td>0.0</td>\n",
              "    </tr>\n",
              "    <tr>\n",
              "      <th>2</th>\n",
              "      <td>0.0</td>\n",
              "      <td>0.000000</td>\n",
              "      <td>0.00000</td>\n",
              "      <td>0.000000</td>\n",
              "      <td>0.0</td>\n",
              "      <td>0.0</td>\n",
              "      <td>0.0</td>\n",
              "      <td>0.0</td>\n",
              "      <td>0.0</td>\n",
              "      <td>0.0</td>\n",
              "      <td>...</td>\n",
              "      <td>0.05851</td>\n",
              "      <td>0.0</td>\n",
              "      <td>0.000000</td>\n",
              "      <td>0.017488</td>\n",
              "      <td>0.0</td>\n",
              "      <td>0.0</td>\n",
              "      <td>0.0</td>\n",
              "      <td>0.0</td>\n",
              "      <td>0.0</td>\n",
              "      <td>0.0</td>\n",
              "    </tr>\n",
              "    <tr>\n",
              "      <th>3</th>\n",
              "      <td>0.0</td>\n",
              "      <td>0.033337</td>\n",
              "      <td>0.00000</td>\n",
              "      <td>0.035082</td>\n",
              "      <td>0.0</td>\n",
              "      <td>0.0</td>\n",
              "      <td>0.0</td>\n",
              "      <td>0.0</td>\n",
              "      <td>0.0</td>\n",
              "      <td>0.0</td>\n",
              "      <td>...</td>\n",
              "      <td>0.00000</td>\n",
              "      <td>0.0</td>\n",
              "      <td>0.060084</td>\n",
              "      <td>0.013012</td>\n",
              "      <td>0.0</td>\n",
              "      <td>0.0</td>\n",
              "      <td>0.0</td>\n",
              "      <td>0.0</td>\n",
              "      <td>0.0</td>\n",
              "      <td>0.0</td>\n",
              "    </tr>\n",
              "    <tr>\n",
              "      <th>4</th>\n",
              "      <td>0.0</td>\n",
              "      <td>0.000000</td>\n",
              "      <td>0.00000</td>\n",
              "      <td>0.000000</td>\n",
              "      <td>0.0</td>\n",
              "      <td>0.0</td>\n",
              "      <td>0.0</td>\n",
              "      <td>0.0</td>\n",
              "      <td>0.0</td>\n",
              "      <td>0.0</td>\n",
              "      <td>...</td>\n",
              "      <td>0.00000</td>\n",
              "      <td>0.0</td>\n",
              "      <td>0.000000</td>\n",
              "      <td>0.047268</td>\n",
              "      <td>0.0</td>\n",
              "      <td>0.0</td>\n",
              "      <td>0.0</td>\n",
              "      <td>0.0</td>\n",
              "      <td>0.0</td>\n",
              "      <td>0.0</td>\n",
              "    </tr>\n",
              "  </tbody>\n",
              "</table>\n",
              "<p>5 rows × 3000 columns</p>\n",
              "</div>\n",
              "      <button class=\"colab-df-convert\" onclick=\"convertToInteractive('df-a2bac2ba-e90f-4482-b63d-91f8e27c4e2b')\"\n",
              "              title=\"Convert this dataframe to an interactive table.\"\n",
              "              style=\"display:none;\">\n",
              "        \n",
              "  <svg xmlns=\"http://www.w3.org/2000/svg\" height=\"24px\"viewBox=\"0 0 24 24\"\n",
              "       width=\"24px\">\n",
              "    <path d=\"M0 0h24v24H0V0z\" fill=\"none\"/>\n",
              "    <path d=\"M18.56 5.44l.94 2.06.94-2.06 2.06-.94-2.06-.94-.94-2.06-.94 2.06-2.06.94zm-11 1L8.5 8.5l.94-2.06 2.06-.94-2.06-.94L8.5 2.5l-.94 2.06-2.06.94zm10 10l.94 2.06.94-2.06 2.06-.94-2.06-.94-.94-2.06-.94 2.06-2.06.94z\"/><path d=\"M17.41 7.96l-1.37-1.37c-.4-.4-.92-.59-1.43-.59-.52 0-1.04.2-1.43.59L10.3 9.45l-7.72 7.72c-.78.78-.78 2.05 0 2.83L4 21.41c.39.39.9.59 1.41.59.51 0 1.02-.2 1.41-.59l7.78-7.78 2.81-2.81c.8-.78.8-2.07 0-2.86zM5.41 20L4 18.59l7.72-7.72 1.47 1.35L5.41 20z\"/>\n",
              "  </svg>\n",
              "      </button>\n",
              "      \n",
              "  <style>\n",
              "    .colab-df-container {\n",
              "      display:flex;\n",
              "      flex-wrap:wrap;\n",
              "      gap: 12px;\n",
              "    }\n",
              "\n",
              "    .colab-df-convert {\n",
              "      background-color: #E8F0FE;\n",
              "      border: none;\n",
              "      border-radius: 50%;\n",
              "      cursor: pointer;\n",
              "      display: none;\n",
              "      fill: #1967D2;\n",
              "      height: 32px;\n",
              "      padding: 0 0 0 0;\n",
              "      width: 32px;\n",
              "    }\n",
              "\n",
              "    .colab-df-convert:hover {\n",
              "      background-color: #E2EBFA;\n",
              "      box-shadow: 0px 1px 2px rgba(60, 64, 67, 0.3), 0px 1px 3px 1px rgba(60, 64, 67, 0.15);\n",
              "      fill: #174EA6;\n",
              "    }\n",
              "\n",
              "    [theme=dark] .colab-df-convert {\n",
              "      background-color: #3B4455;\n",
              "      fill: #D2E3FC;\n",
              "    }\n",
              "\n",
              "    [theme=dark] .colab-df-convert:hover {\n",
              "      background-color: #434B5C;\n",
              "      box-shadow: 0px 1px 3px 1px rgba(0, 0, 0, 0.15);\n",
              "      filter: drop-shadow(0px 1px 2px rgba(0, 0, 0, 0.3));\n",
              "      fill: #FFFFFF;\n",
              "    }\n",
              "  </style>\n",
              "\n",
              "      <script>\n",
              "        const buttonEl =\n",
              "          document.querySelector('#df-a2bac2ba-e90f-4482-b63d-91f8e27c4e2b button.colab-df-convert');\n",
              "        buttonEl.style.display =\n",
              "          google.colab.kernel.accessAllowed ? 'block' : 'none';\n",
              "\n",
              "        async function convertToInteractive(key) {\n",
              "          const element = document.querySelector('#df-a2bac2ba-e90f-4482-b63d-91f8e27c4e2b');\n",
              "          const dataTable =\n",
              "            await google.colab.kernel.invokeFunction('convertToInteractive',\n",
              "                                                     [key], {});\n",
              "          if (!dataTable) return;\n",
              "\n",
              "          const docLinkHtml = 'Like what you see? Visit the ' +\n",
              "            '<a target=\"_blank\" href=https://colab.research.google.com/notebooks/data_table.ipynb>data table notebook</a>'\n",
              "            + ' to learn more about interactive tables.';\n",
              "          element.innerHTML = '';\n",
              "          dataTable['output_type'] = 'display_data';\n",
              "          await google.colab.output.renderOutput(dataTable, element);\n",
              "          const docLink = document.createElement('div');\n",
              "          docLink.innerHTML = docLinkHtml;\n",
              "          element.appendChild(docLink);\n",
              "        }\n",
              "      </script>\n",
              "    </div>\n",
              "  </div>\n",
              "  "
            ]
          },
          "metadata": {},
          "execution_count": 59
        }
      ]
    },
    {
      "cell_type": "code",
      "source": [
        "from sklearn.neighbors import NearestNeighbors\n",
        "nn = NearestNeighbors(n_neighbors=5, algorithm='kd_tree')\n",
        "nn.fit(dtm_tfidf_tuned)"
      ],
      "metadata": {
        "id": "sznWSEZOgPxd",
        "outputId": "3b030979-2df2-438a-ac5c-8276c867d0e3",
        "colab": {
          "base_uri": "https://localhost:8080/"
        }
      },
      "execution_count": 60,
      "outputs": [
        {
          "output_type": "execute_result",
          "data": {
            "text/plain": [
              "NearestNeighbors(algorithm='kd_tree')"
            ]
          },
          "metadata": {},
          "execution_count": 60
        }
      ]
    },
    {
      "cell_type": "code",
      "source": [
        "nn.kneighbors([dtm_tfidf_tuned.iloc[88]])"
      ],
      "metadata": {
        "id": "031BcERHgXDp",
        "outputId": "58d0731b-b992-4dfb-b082-f9ea6a6b93ce",
        "colab": {
          "base_uri": "https://localhost:8080/"
        }
      },
      "execution_count": 61,
      "outputs": [
        {
          "output_type": "stream",
          "name": "stderr",
          "text": [
            "/usr/local/lib/python3.7/dist-packages/sklearn/base.py:451: UserWarning: X does not have valid feature names, but NearestNeighbors was fitted with feature names\n",
            "  \"X does not have valid feature names, but\"\n"
          ]
        },
        {
          "output_type": "execute_result",
          "data": {
            "text/plain": [
              "(array([[0.        , 1.1283426 , 1.18893646, 1.19442548, 1.19937307]]),\n",
              " array([[ 88,  40, 121,  68, 680]]))"
            ]
          },
          "metadata": {},
          "execution_count": 61
        }
      ]
    },
    {
      "cell_type": "markdown",
      "metadata": {
        "id": "sv9pdvcCYKXD"
      },
      "source": [
        "## 3. TF-IDF 이용한 텍스트 분류 진행하기"
      ]
    },
    {
      "cell_type": "markdown",
      "metadata": {
        "id": "tgiTtSXLYKXD"
      },
      "source": [
        "TF-IDF를 이용해 문장 혹은 문서를 벡터화한 경우, 이 벡터값을 이용해 문서 분류 태스크를 진행할 수 있습니다. \n",
        "\n",
        "현재 다루고 있는 데이터셋에는 label이 존재하지 않으므로, title 컬럼에 \"Senior\"가 있는지 없는지 여부를 통해 Senior 직무 여부를 분류하는 작업을 진행해보겠습니다."
      ]
    },
    {
      "cell_type": "markdown",
      "metadata": {
        "id": "8z-BRJNwYKXE"
      },
      "source": [
        "### 1) title 컬럼에 \"Senior\" 문자열이 있으면 1, 없으면 0인 \"Senior\"라는 새로운 컬럼을 생성해주세요."
      ]
    },
    {
      "cell_type": "markdown",
      "metadata": {
        "id": "W6TNgjvxYKXE"
      },
      "source": [
        "문항 7) 새롭게 만든 Senior 컬럼에서 값이 1인 (Senior O) 데이터의 개수는?"
      ]
    },
    {
      "cell_type": "code",
      "execution_count": 63,
      "metadata": {
        "id": "5UlUVnpCYKXE"
      },
      "outputs": [],
      "source": [
        "df['senior'] = df['title'].apply(lambda x:1 if 'Senior' in x else 0)"
      ]
    },
    {
      "cell_type": "code",
      "source": [
        "df['senior'].value_counts()"
      ],
      "metadata": {
        "id": "Ge66-bJnfstF",
        "outputId": "222d8b56-9f37-490d-e5ce-d2eef8fb8b6d",
        "colab": {
          "base_uri": "https://localhost:8080/"
        }
      },
      "execution_count": 64,
      "outputs": [
        {
          "output_type": "execute_result",
          "data": {
            "text/plain": [
              "0    662\n",
              "1     95\n",
              "Name: senior, dtype: int64"
            ]
          },
          "metadata": {},
          "execution_count": 64
        }
      ]
    },
    {
      "cell_type": "code",
      "source": [
        "df[df['senior']==1]"
      ],
      "metadata": {
        "id": "WqiqCSscfvDz",
        "outputId": "2fb35d69-426b-481d-ffdf-0c16bfff4096",
        "colab": {
          "base_uri": "https://localhost:8080/",
          "height": 424
        }
      },
      "execution_count": 65,
      "outputs": [
        {
          "output_type": "execute_result",
          "data": {
            "text/plain": [
              "                                                title  \\\n",
              "652                               Data Analyst Senior   \n",
              "654                       Senior Data Scientist, FP&A   \n",
              "655  Senior Data Scientist – Central Product Insights   \n",
              "656           Senior Data Scientist - Quality Systems   \n",
              "657           Analytics Data Scientist Senior Advisor   \n",
              "..                                                ...   \n",
              "752                               Senior Data Analyst   \n",
              "753     Senior / Data Scientist, Advertising Business   \n",
              "754                   Senior Data & Applied Scientist   \n",
              "755                             Senior Data Scientist   \n",
              "756                             Senior Data Scientist   \n",
              "\n",
              "                       company  \\\n",
              "652              Experity, Inc   \n",
              "654  The J. M. Smucker Company   \n",
              "655                    Spotify   \n",
              "656                      Tesla   \n",
              "657                 CVS Health   \n",
              "..                         ...   \n",
              "752                     Intuit   \n",
              "753                    Spotify   \n",
              "754                  Microsoft   \n",
              "755                  eBay Inc.   \n",
              "756           Spring Discovery   \n",
              "\n",
              "                                           description  \\\n",
              "652  Experity is an industry-leading software and s...   \n",
              "654  The Senior Data Scientist, FP&A role is primar...   \n",
              "655  The Personalization team makes deciding what t...   \n",
              "656  Role\\nThe quality data science team is respons...   \n",
              "657  Manages and is responsible for the successful ...   \n",
              "..                                                 ...   \n",
              "752  Our Expert Delivery & Business Intelligence te...   \n",
              "753  Music for everyone, no credit card needed. It’...   \n",
              "754  Senior Data & Applied Scientist\\nDo you have a...   \n",
              "755  eBay is a global commerce leader that allows y...   \n",
              "756  tl;dr\\nSpring is accelerating the discovery of...   \n",
              "\n",
              "                                                tokens  \\\n",
              "652  [experity, industry-leading, software, service...   \n",
              "654  [senior, scientist,, fp&a, role, primarily, re...   \n",
              "655  [personalization, team, makes, deciding, play,...   \n",
              "656  [role, \\n, quality, science, team, responsible...   \n",
              "657  [manages, responsible, successful, delivery, a...   \n",
              "..                                                 ...   \n",
              "752  [expert, delivery, &, business, intelligence, ...   \n",
              "753  [music, everyone,, credit, card, needed., it’s...   \n",
              "754  [senior, &, applied, scientist, \\n, passion, m...   \n",
              "755  [ebay, global, commerce, leader, allows, shape...   \n",
              "756  [tl;dr, \\n, spring, accelerating, discovery, t...   \n",
              "\n",
              "                                                lemmas  senior  \n",
              "652  [experity, industry, lead, software, service, ...       1  \n",
              "654  [Senior, Data, Scientist, FP&A, role, primaril...       1  \n",
              "655  [personalization, team, make, decide, play, ea...       1  \n",
              "656  [role, \\n, quality, datum, science, team, resp...       1  \n",
              "657  [Manages, responsible, successful, delivery, a...       1  \n",
              "..                                                 ...     ...  \n",
              "752  [Expert, Delivery, Business, Intelligence, tea...       1  \n",
              "753  [music, credit, card, need, promise, platform,...       1  \n",
              "754  [Senior, Data, Applied, Scientist, \\n, passion...       1  \n",
              "755  [eBay, global, commerce, leader, allow, shape,...       1  \n",
              "756  [tl;dr, \\n, Spring, accelerate, discovery, the...       1  \n",
              "\n",
              "[95 rows x 6 columns]"
            ],
            "text/html": [
              "\n",
              "  <div id=\"df-9e8af509-9113-479d-b06e-a95f33c33131\">\n",
              "    <div class=\"colab-df-container\">\n",
              "      <div>\n",
              "<style scoped>\n",
              "    .dataframe tbody tr th:only-of-type {\n",
              "        vertical-align: middle;\n",
              "    }\n",
              "\n",
              "    .dataframe tbody tr th {\n",
              "        vertical-align: top;\n",
              "    }\n",
              "\n",
              "    .dataframe thead th {\n",
              "        text-align: right;\n",
              "    }\n",
              "</style>\n",
              "<table border=\"1\" class=\"dataframe\">\n",
              "  <thead>\n",
              "    <tr style=\"text-align: right;\">\n",
              "      <th></th>\n",
              "      <th>title</th>\n",
              "      <th>company</th>\n",
              "      <th>description</th>\n",
              "      <th>tokens</th>\n",
              "      <th>lemmas</th>\n",
              "      <th>senior</th>\n",
              "    </tr>\n",
              "  </thead>\n",
              "  <tbody>\n",
              "    <tr>\n",
              "      <th>652</th>\n",
              "      <td>Data Analyst Senior</td>\n",
              "      <td>Experity, Inc</td>\n",
              "      <td>Experity is an industry-leading software and s...</td>\n",
              "      <td>[experity, industry-leading, software, service...</td>\n",
              "      <td>[experity, industry, lead, software, service, ...</td>\n",
              "      <td>1</td>\n",
              "    </tr>\n",
              "    <tr>\n",
              "      <th>654</th>\n",
              "      <td>Senior Data Scientist, FP&amp;A</td>\n",
              "      <td>The J. M. Smucker Company</td>\n",
              "      <td>The Senior Data Scientist, FP&amp;A role is primar...</td>\n",
              "      <td>[senior, scientist,, fp&amp;a, role, primarily, re...</td>\n",
              "      <td>[Senior, Data, Scientist, FP&amp;A, role, primaril...</td>\n",
              "      <td>1</td>\n",
              "    </tr>\n",
              "    <tr>\n",
              "      <th>655</th>\n",
              "      <td>Senior Data Scientist – Central Product Insights</td>\n",
              "      <td>Spotify</td>\n",
              "      <td>The Personalization team makes deciding what t...</td>\n",
              "      <td>[personalization, team, makes, deciding, play,...</td>\n",
              "      <td>[personalization, team, make, decide, play, ea...</td>\n",
              "      <td>1</td>\n",
              "    </tr>\n",
              "    <tr>\n",
              "      <th>656</th>\n",
              "      <td>Senior Data Scientist - Quality Systems</td>\n",
              "      <td>Tesla</td>\n",
              "      <td>Role\\nThe quality data science team is respons...</td>\n",
              "      <td>[role, \\n, quality, science, team, responsible...</td>\n",
              "      <td>[role, \\n, quality, datum, science, team, resp...</td>\n",
              "      <td>1</td>\n",
              "    </tr>\n",
              "    <tr>\n",
              "      <th>657</th>\n",
              "      <td>Analytics Data Scientist Senior Advisor</td>\n",
              "      <td>CVS Health</td>\n",
              "      <td>Manages and is responsible for the successful ...</td>\n",
              "      <td>[manages, responsible, successful, delivery, a...</td>\n",
              "      <td>[Manages, responsible, successful, delivery, a...</td>\n",
              "      <td>1</td>\n",
              "    </tr>\n",
              "    <tr>\n",
              "      <th>...</th>\n",
              "      <td>...</td>\n",
              "      <td>...</td>\n",
              "      <td>...</td>\n",
              "      <td>...</td>\n",
              "      <td>...</td>\n",
              "      <td>...</td>\n",
              "    </tr>\n",
              "    <tr>\n",
              "      <th>752</th>\n",
              "      <td>Senior Data Analyst</td>\n",
              "      <td>Intuit</td>\n",
              "      <td>Our Expert Delivery &amp; Business Intelligence te...</td>\n",
              "      <td>[expert, delivery, &amp;, business, intelligence, ...</td>\n",
              "      <td>[Expert, Delivery, Business, Intelligence, tea...</td>\n",
              "      <td>1</td>\n",
              "    </tr>\n",
              "    <tr>\n",
              "      <th>753</th>\n",
              "      <td>Senior / Data Scientist, Advertising Business</td>\n",
              "      <td>Spotify</td>\n",
              "      <td>Music for everyone, no credit card needed. It’...</td>\n",
              "      <td>[music, everyone,, credit, card, needed., it’s...</td>\n",
              "      <td>[music, credit, card, need, promise, platform,...</td>\n",
              "      <td>1</td>\n",
              "    </tr>\n",
              "    <tr>\n",
              "      <th>754</th>\n",
              "      <td>Senior Data &amp; Applied Scientist</td>\n",
              "      <td>Microsoft</td>\n",
              "      <td>Senior Data &amp; Applied Scientist\\nDo you have a...</td>\n",
              "      <td>[senior, &amp;, applied, scientist, \\n, passion, m...</td>\n",
              "      <td>[Senior, Data, Applied, Scientist, \\n, passion...</td>\n",
              "      <td>1</td>\n",
              "    </tr>\n",
              "    <tr>\n",
              "      <th>755</th>\n",
              "      <td>Senior Data Scientist</td>\n",
              "      <td>eBay Inc.</td>\n",
              "      <td>eBay is a global commerce leader that allows y...</td>\n",
              "      <td>[ebay, global, commerce, leader, allows, shape...</td>\n",
              "      <td>[eBay, global, commerce, leader, allow, shape,...</td>\n",
              "      <td>1</td>\n",
              "    </tr>\n",
              "    <tr>\n",
              "      <th>756</th>\n",
              "      <td>Senior Data Scientist</td>\n",
              "      <td>Spring Discovery</td>\n",
              "      <td>tl;dr\\nSpring is accelerating the discovery of...</td>\n",
              "      <td>[tl;dr, \\n, spring, accelerating, discovery, t...</td>\n",
              "      <td>[tl;dr, \\n, Spring, accelerate, discovery, the...</td>\n",
              "      <td>1</td>\n",
              "    </tr>\n",
              "  </tbody>\n",
              "</table>\n",
              "<p>95 rows × 6 columns</p>\n",
              "</div>\n",
              "      <button class=\"colab-df-convert\" onclick=\"convertToInteractive('df-9e8af509-9113-479d-b06e-a95f33c33131')\"\n",
              "              title=\"Convert this dataframe to an interactive table.\"\n",
              "              style=\"display:none;\">\n",
              "        \n",
              "  <svg xmlns=\"http://www.w3.org/2000/svg\" height=\"24px\"viewBox=\"0 0 24 24\"\n",
              "       width=\"24px\">\n",
              "    <path d=\"M0 0h24v24H0V0z\" fill=\"none\"/>\n",
              "    <path d=\"M18.56 5.44l.94 2.06.94-2.06 2.06-.94-2.06-.94-.94-2.06-.94 2.06-2.06.94zm-11 1L8.5 8.5l.94-2.06 2.06-.94-2.06-.94L8.5 2.5l-.94 2.06-2.06.94zm10 10l.94 2.06.94-2.06 2.06-.94-2.06-.94-.94-2.06-.94 2.06-2.06.94z\"/><path d=\"M17.41 7.96l-1.37-1.37c-.4-.4-.92-.59-1.43-.59-.52 0-1.04.2-1.43.59L10.3 9.45l-7.72 7.72c-.78.78-.78 2.05 0 2.83L4 21.41c.39.39.9.59 1.41.59.51 0 1.02-.2 1.41-.59l7.78-7.78 2.81-2.81c.8-.78.8-2.07 0-2.86zM5.41 20L4 18.59l7.72-7.72 1.47 1.35L5.41 20z\"/>\n",
              "  </svg>\n",
              "      </button>\n",
              "      \n",
              "  <style>\n",
              "    .colab-df-container {\n",
              "      display:flex;\n",
              "      flex-wrap:wrap;\n",
              "      gap: 12px;\n",
              "    }\n",
              "\n",
              "    .colab-df-convert {\n",
              "      background-color: #E8F0FE;\n",
              "      border: none;\n",
              "      border-radius: 50%;\n",
              "      cursor: pointer;\n",
              "      display: none;\n",
              "      fill: #1967D2;\n",
              "      height: 32px;\n",
              "      padding: 0 0 0 0;\n",
              "      width: 32px;\n",
              "    }\n",
              "\n",
              "    .colab-df-convert:hover {\n",
              "      background-color: #E2EBFA;\n",
              "      box-shadow: 0px 1px 2px rgba(60, 64, 67, 0.3), 0px 1px 3px 1px rgba(60, 64, 67, 0.15);\n",
              "      fill: #174EA6;\n",
              "    }\n",
              "\n",
              "    [theme=dark] .colab-df-convert {\n",
              "      background-color: #3B4455;\n",
              "      fill: #D2E3FC;\n",
              "    }\n",
              "\n",
              "    [theme=dark] .colab-df-convert:hover {\n",
              "      background-color: #434B5C;\n",
              "      box-shadow: 0px 1px 3px 1px rgba(0, 0, 0, 0.15);\n",
              "      filter: drop-shadow(0px 1px 2px rgba(0, 0, 0, 0.3));\n",
              "      fill: #FFFFFF;\n",
              "    }\n",
              "  </style>\n",
              "\n",
              "      <script>\n",
              "        const buttonEl =\n",
              "          document.querySelector('#df-9e8af509-9113-479d-b06e-a95f33c33131 button.colab-df-convert');\n",
              "        buttonEl.style.display =\n",
              "          google.colab.kernel.accessAllowed ? 'block' : 'none';\n",
              "\n",
              "        async function convertToInteractive(key) {\n",
              "          const element = document.querySelector('#df-9e8af509-9113-479d-b06e-a95f33c33131');\n",
              "          const dataTable =\n",
              "            await google.colab.kernel.invokeFunction('convertToInteractive',\n",
              "                                                     [key], {});\n",
              "          if (!dataTable) return;\n",
              "\n",
              "          const docLinkHtml = 'Like what you see? Visit the ' +\n",
              "            '<a target=\"_blank\" href=https://colab.research.google.com/notebooks/data_table.ipynb>data table notebook</a>'\n",
              "            + ' to learn more about interactive tables.';\n",
              "          element.innerHTML = '';\n",
              "          dataTable['output_type'] = 'display_data';\n",
              "          await google.colab.output.renderOutput(dataTable, element);\n",
              "          const docLink = document.createElement('div');\n",
              "          docLink.innerHTML = docLinkHtml;\n",
              "          element.appendChild(docLink);\n",
              "        }\n",
              "      </script>\n",
              "    </div>\n",
              "  </div>\n",
              "  "
            ]
          },
          "metadata": {},
          "execution_count": 65
        }
      ]
    },
    {
      "cell_type": "markdown",
      "metadata": {
        "id": "247WqLn3YKXE"
      },
      "source": [
        "문항 8) sklearn의 `train_test_split`을 통해 train 데이터와 valid 데이터로 나눈 후, `sklearn`의 `DecisionTreeClassifier`를 이용해 분류를 진행해주세요. \n",
        "\n",
        "단, x값은 위에서 학습한 dtm_tfidf를 그대로 이용해주세요. train_test_split과 DecisionTreeClassifier의 random_state을 42로 고정하고, test_size는 0.1로 설정해주세요.\n",
        "\n",
        "학습을 완료한 후, test 데이터에 대한 예측을 진행하고 label 1에 대한 precision과 recall 값을 적어주세요"
      ]
    },
    {
      "cell_type": "code",
      "execution_count": 66,
      "metadata": {
        "id": "PHCATtY8cX5b"
      },
      "outputs": [],
      "source": [
        "from sklearn.model_selection import train_test_split\n",
        "from sklearn.tree import DecisionTreeClassifier\n",
        "\n",
        "X_train, X_test, y_train, y_test = train_test_split(dtm_tfidf_tuned, df['senior'], test_size=0.1, random_state=42)\n",
        "\n",
        "model = DecisionTreeClassifier(random_state=42)"
      ]
    },
    {
      "cell_type": "code",
      "source": [
        "model.fit(X_train, y_train)"
      ],
      "metadata": {
        "id": "lkaNVQmugpQp",
        "outputId": "57c76616-7097-4e28-b5a8-c7585baf9ce3",
        "colab": {
          "base_uri": "https://localhost:8080/"
        }
      },
      "execution_count": 67,
      "outputs": [
        {
          "output_type": "execute_result",
          "data": {
            "text/plain": [
              "DecisionTreeClassifier(random_state=42)"
            ]
          },
          "metadata": {},
          "execution_count": 67
        }
      ]
    },
    {
      "cell_type": "code",
      "source": [
        "from sklearn.metrics import recall_score, precision_score\n",
        "y_pred = model.predict(X_test)\n",
        "\n",
        "print(precision_score(y_test,y_pred))\n",
        "print(recall_score(y_test,y_pred))"
      ],
      "metadata": {
        "id": "VDXwU3BJgqaQ",
        "outputId": "fd4ff50e-ec56-478b-eebc-0f3fc7e513d0",
        "colab": {
          "base_uri": "https://localhost:8080/"
        }
      },
      "execution_count": 68,
      "outputs": [
        {
          "output_type": "stream",
          "name": "stdout",
          "text": [
            "0.26666666666666666\n",
            "0.5\n"
          ]
        }
      ]
    }
  ],
  "metadata": {
    "colab": {
      "collapsed_sections": [],
      "name": "N421a_Count-based_Representation.ipynb",
      "provenance": [],
      "include_colab_link": true
    },
    "kernelspec": {
      "display_name": "Python 3 (ipykernel)",
      "language": "python",
      "name": "python3"
    },
    "language_info": {
      "codemirror_mode": {
        "name": "ipython",
        "version": 3
      },
      "file_extension": ".py",
      "mimetype": "text/x-python",
      "name": "python",
      "nbconvert_exporter": "python",
      "pygments_lexer": "ipython3",
      "version": "3.8.10"
    },
    "toc-autonumbering": false
  },
  "nbformat": 4,
  "nbformat_minor": 0
}